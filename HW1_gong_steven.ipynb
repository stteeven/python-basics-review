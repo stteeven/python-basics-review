{
  "nbformat": 4,
  "nbformat_minor": 0,
  "metadata": {
    "colab": {
      "name": "HW1_gong_steven.ipynb",
      "provenance": [],
      "collapsed_sections": []
    },
    "kernelspec": {
      "name": "python3",
      "display_name": "Python 3"
    }
  },
  "cells": [
    {
      "cell_type": "markdown",
      "metadata": {
        "id": "hm8RAKinXsIP"
      },
      "source": [
        "## **Homework 1**\n",
        "\n",
        "### Create a copy of the notebook to start answering the questions. Name your notebook in the format HW1_lastname_firstname.ipynb to facilitate the grading process. \n",
        "\n",
        "### Answer all the questions, test your code to ensure there are no errors and the results are as expected. Once you have answered all the questions, save the final copy, then go to File-> click on Download.ipynb. Once the local copy has been downloaded, submit your file on Blackboard under the corresponding assignment section. Also provide us a link to your notebook during submission. \n",
        "\n",
        "### **The due date of this homework is 02/05/2021 (Friday).**\n",
        "\n",
        "### Please ensure you follow all the steps mentioned in the homework.\n",
        "\n",
        "### All the questions have a sample input and output to help you understand the question. Please note that your programs will be tested for other sets of inputs and outputs along with the sample provided. So test your code for other inputs.\n",
        "\n",
        "### You can submit your solutions any number of times until the deadline.\n"
      ]
    },
    {
      "cell_type": "markdown",
      "metadata": {
        "id": "uacFrEaZfcfq"
      },
      "source": [
        "##### Q1. Write a program that prompts the user to enter a password then prints the length of the password.\n",
        "\n",
        "```\n",
        "Enter your password: hello\n",
        "Your password is 5 long.\n",
        "```\n",
        "\n",
        "\n"
      ]
    },
    {
      "cell_type": "code",
      "metadata": {
        "id": "avPyES14ftCt",
        "colab": {
          "base_uri": "https://localhost:8080/"
        },
        "outputId": "1c5f84b5-f243-41c0-97b2-bc943399347c"
      },
      "source": [
        "# Type solution here\n",
        "password = input(\"Enter your password: \")\n",
        "print(\"Your password is\", len(password), \"long.\")"
      ],
      "execution_count": null,
      "outputs": [
        {
          "output_type": "stream",
          "text": [
            "Enter your password: 123456789\n",
            "Your password is 9 long.\n"
          ],
          "name": "stdout"
        }
      ]
    },
    {
      "cell_type": "markdown",
      "metadata": {
        "id": "ekh-kABuItli"
      },
      "source": [
        ""
      ]
    },
    {
      "cell_type": "markdown",
      "metadata": {
        "id": "K1yko-xUItU3"
      },
      "source": [
        ""
      ]
    },
    {
      "cell_type": "markdown",
      "metadata": {
        "id": "behD0j_Of2TW"
      },
      "source": [
        "##### Q2. Write a program that prompts the user to enter their full name then prints the number of characters in their name (do not count spaces).\n",
        "\n",
        "```\n",
        "What is your name? Amulya Katti\n",
        "Amulya Katti your name has 11 characters.\n",
        "```"
      ]
    },
    {
      "cell_type": "code",
      "metadata": {
        "id": "XSdIRjwlhSlu",
        "colab": {
          "base_uri": "https://localhost:8080/"
        },
        "outputId": "f05fed2d-2fd5-4fde-c7ac-578039b482f7"
      },
      "source": [
        "# Type solution here\n",
        "numChars = 0\n",
        "name = input(\"What is your name? \")\n",
        "for l in name:\n",
        "  if l != \" \":\n",
        "    numChars += 1\n",
        "print(name, \"your name has\", numChars, \"characters.\")"
      ],
      "execution_count": null,
      "outputs": [
        {
          "output_type": "stream",
          "text": [
            "What is your name? dfghjkl.  l\n",
            "dfghjkl.  l your name has 9 characters.\n"
          ],
          "name": "stdout"
        }
      ]
    },
    {
      "cell_type": "markdown",
      "metadata": {
        "id": "5KHOWF6FhVHV"
      },
      "source": [
        "##### Q3. Write a program that prompts the user to enter a month (as a number), then prints the name of the month and the number of days in that month. Ensure that the user inputs a valid month and handle any error cases.\n",
        "\n",
        "```\n",
        "Enter the month number: 9\n",
        "September has 30 days\n",
        "```"
      ]
    },
    {
      "cell_type": "code",
      "metadata": {
        "id": "KhS-SAEThyTG",
        "colab": {
          "base_uri": "https://localhost:8080/"
        },
        "outputId": "2f0b6224-39db-422d-81a8-5fb1481f8295"
      },
      "source": [
        "# Type solution here\n",
        "monthDict = {\"January\": 31, \"February\": 28, \"March\": 31, \"April\": 30, \"May\": 31, \"June\": 31, \"July\": 30, \"August\": 31, \"September\": 30, \"October\": 31, \"November\":30, \"December\": 31}\n",
        "monthList = [\"January\", \"February\", \"March\", \"April\", \"May\", \"June\", \"July\", \"August\", \"September\", \"October\", \"November\", \"December\"]\n",
        "monthNum = input(\"Enter the month number: \")\n",
        "while not monthNum.isdigit():\n",
        "  monthNum = input(\"Enter the month number: \")\n",
        "monthNum = int(monthNum)\n",
        "while monthNum not in range(1,13):\n",
        "  monthNum = input(\"Enter the month number: \")\n",
        "  monthNum = int(monthNum)\n",
        "monthName = monthList[monthNum-1]\n",
        "print(monthName, \"has\", monthDict[monthName], \"days.\") \n"
      ],
      "execution_count": null,
      "outputs": [
        {
          "output_type": "stream",
          "text": [
            "Enter the month number: 99\n",
            "Enter the month number: 6\n",
            "June has 31 days.\n"
          ],
          "name": "stdout"
        }
      ]
    },
    {
      "cell_type": "markdown",
      "metadata": {
        "id": "O7lnAdGlh6Xa"
      },
      "source": [
        "##### Q4. Write a program that prompts the user to enter a loan amount, annual interest rate, and number of years  for a car loan. Then calculate and print the monthly payment amount.\n",
        "\n",
        "Note:\n",
        "```\n",
        "PMT= [PV*i*((1+i)^n)]/((1+i)^n)-1\n",
        "```\n",
        "PMT is the monthly payment\n",
        "\n",
        "PV is the loan amount\n",
        "\n",
        "i is the interest rate per month in decimal form (interest rate percentage divided by 12)\n",
        "\n",
        "n is the number of months (term of the loan in months)\n",
        "\n",
        "```\n",
        "Loan Amount: 30000.00\n",
        "Annual Interest Rate: 4.00\n",
        "Years: 5\n",
        "Your monthly payment is: $552.50\n",
        "```"
      ]
    },
    {
      "cell_type": "code",
      "metadata": {
        "id": "p4B5JH5GiTs9",
        "colab": {
          "base_uri": "https://localhost:8080/"
        },
        "outputId": "03445ede-e1e2-4dd8-84cd-0183b4dce67d"
      },
      "source": [
        "# loanAmount * (interestRate * (1 + interestRate) ** years) / ((1 + interestRate) ** years - 1)\n",
        "# Type solution here\n",
        "pv = float(input(\"Loan Amount: \"))\n",
        "air = float(input(\"Annual Interest Rate: \"))\n",
        "i = (air/100)/12\n",
        "y = int(input(\"Years: \"))\n",
        "n = y*12\n",
        "pmt = (pv*(i*(1+i)**n))/((1+i)**n-1)\n",
        "print(\"Your monthly payment is: $\"+ str(pmt))\n"
      ],
      "execution_count": null,
      "outputs": [
        {
          "output_type": "stream",
          "text": [
            "Loan Amount: 30000.0\n",
            "Annual Interest Rate: 4.0\n",
            "Years: 5\n",
            "Your monthly payment is: $552.4956616579792\n"
          ],
          "name": "stdout"
        }
      ]
    },
    {
      "cell_type": "markdown",
      "metadata": {
        "id": "SjiolJKgiWV-"
      },
      "source": [
        "##### Q5. Write a program to that prompts the user to enter a string. Then check whether or not the string is a palindrome.\n",
        "\n",
        "```\n",
        "Enter a string: Madam\n",
        "Madam, is a palindrome!\n",
        "```"
      ]
    },
    {
      "cell_type": "code",
      "metadata": {
        "id": "F5_M934Ri0es",
        "colab": {
          "base_uri": "https://localhost:8080/"
        },
        "outputId": "28de2b01-749a-493e-8d5b-e545563ce9be"
      },
      "source": [
        "# Type solution here\n",
        "string = input(\"Enter a string: \")\n",
        "stringLower = string.lower()\n",
        "reverse = stringLower[::-1]\n",
        "if stringLower == reverse:\n",
        "  print(string, \"is a palindrome!\")\n",
        "else:\n",
        "  print(string, \"is not a palindrome!\")"
      ],
      "execution_count": null,
      "outputs": [
        {
          "output_type": "stream",
          "text": [
            "Enter a string: AYa\n",
            "AYa is a palindrome!\n"
          ],
          "name": "stdout"
        }
      ]
    },
    {
      "cell_type": "markdown",
      "metadata": {
        "id": "BLBD6n9vkJEu"
      },
      "source": [
        "##### Q6. Write a program to compute and print all possible combinations of change for \\$1. Denominations to be considered – quarter, dime, nickel, penny.\n",
        "\n",
        "Hint: Use nested loops (loops within loops for the various denominations of coins)\n",
        "\n",
        "```\n",
        "Change for $1:\n",
        "0 quarters, 0 dimes, 0 nickels, 100 pennies\n",
        "…\n",
        "4 quarters, 0 dimes, 0 nickels, 0 pennies\n",
        "```"
      ]
    },
    {
      "cell_type": "code",
      "metadata": {
        "id": "kAQsTjwDkZZ5",
        "colab": {
          "base_uri": "https://localhost:8080/"
        },
        "outputId": "6b0a2de6-c54d-4002-d9bd-109f58c518f3"
      },
      "source": [
        "# Type solution here\n",
        "prin(\"Change for $1:\")\n",
        "increments = {1:\"pennies\",5:\"nickels\",10:\"dimes\",25:\"quarters\"}\n",
        "for i in increments.keys():\n",
        "  for n in range(0, 101):\n",
        "    if i*n == 100:\n",
        "      print(n, increments[i])"
      ],
      "execution_count": null,
      "outputs": [
        {
          "output_type": "stream",
          "text": [
            "100 pennies\n",
            "20 nickels\n",
            "10 dimes\n",
            "4 quarters\n"
          ],
          "name": "stdout"
        }
      ]
    },
    {
      "cell_type": "markdown",
      "metadata": {
        "id": "rUPDjYiIkbgs"
      },
      "source": [
        "##### Q7. Ask the user to enter two positive integers between 1 and 100. Read those integers. Then output a multiplication table of the first number times the second number. \n",
        "\n",
        "Note: You have to ensure the entered numbers are between 1 and 100 only.\n",
        "\n",
        "```\n",
        "Please enter an integer: 5\n",
        "Please enter another integer: 20\n",
        "5 x 1 = 5\n",
        "5 x 2 = 10\n",
        "5 x 3 = 15\n",
        "…\n",
        "5 x 20 = 100\n",
        "```"
      ]
    },
    {
      "cell_type": "code",
      "metadata": {
        "id": "Qg0Orv1klHzA",
        "colab": {
          "base_uri": "https://localhost:8080/"
        },
        "outputId": "afab32c4-598c-4f91-f354-ff97a030c99d"
      },
      "source": [
        "# Type solution here\n",
        "num1 = input(\"Please enter an integer: \")\n",
        "num2 = input(\"Please enter another integer: \")\n",
        "\n",
        "bothDigits = False\n",
        "\n",
        "# Check if the inputs are digits\n",
        "if num1.isdigit() and num2.isdigit():\n",
        "  bothDigits = True \n",
        "  \n",
        "while bothDigits == False:\n",
        "  num1 = input(\"Please enter an integer: \")\n",
        "  num2 = input(\"Please enter another integer: \")\n",
        "  if num1.isdigit() and num2.isdigit():\n",
        "    bothDigits = True \n",
        "\n",
        "num1 = int(num1)\n",
        "num2 = int(num2)\n",
        "\n",
        "while (num1 not in range(1,101)) or (num2 not in range(1,101)):\n",
        "  num1 = input(\"Please enter an integer: \")\n",
        "  num2 = input(\"Please enter another integer: \")\n",
        "  num1 = int(num1)\n",
        "  num2 = int(num2)\n",
        "\n",
        "for i in range(1, num2+1):\n",
        "  sum = num1 * i\n",
        "  print(num1, \"x\", i, \"=\", sum)"
      ],
      "execution_count": null,
      "outputs": [
        {
          "output_type": "stream",
          "text": [
            "Please enter an integer: 4\n",
            "Please enter another integer: 7\n",
            "4 x 1 = 4\n",
            "4 x 2 = 8\n",
            "4 x 3 = 12\n",
            "4 x 4 = 16\n",
            "4 x 5 = 20\n",
            "4 x 6 = 24\n",
            "4 x 7 = 28\n"
          ],
          "name": "stdout"
        }
      ]
    },
    {
      "cell_type": "markdown",
      "metadata": {
        "id": "SbnbPUPTlLD9"
      },
      "source": [
        "##### Q8. Write a program to ask the user to enter a password. Then check to see if it is a valid password based on these requirements -\n",
        "\n",
        "Must be at least 8 characters long\n",
        "\n",
        "Must contain both uppercase and lowercase letters\n",
        "\n",
        "Must contain at least one number between 0-9\n",
        "\n",
        "Must contain a special character -!,@,#,$\n",
        "\n",
        "If the password is not valid, ask the user to re-enter. This should continue until the user enters a valid password. After a valid password is entered, print Access Granted!\n",
        "\n",
        "```\n",
        "Please enter a password. Follow these requirements - \n",
        "a. Must be at least 8 characters long\n",
        "b. Must contain both uppercase and lowercase letters\n",
        "c. Must contain at least one number between 0-9\n",
        "d. Must contain a special character -!,@,#,$\n",
        "Password: HelloWorld1\n",
        "Invalid password. Try again!\n",
        "Password: Hello@World1\n",
        "Access Granted!\n",
        "```\n"
      ]
    },
    {
      "cell_type": "code",
      "metadata": {
        "id": "OXmZ177Rl-RV",
        "colab": {
          "base_uri": "https://localhost:8080/"
        },
        "outputId": "3bb97031-bb4a-4ce2-bccb-4b3792cc308d"
      },
      "source": [
        "# Type solution here\n",
        "lowerAlpha = \"abcdefghijklmnopqrstuvwxyz\"\n",
        "upperAlpha = \"ABCDEFGHIJKLMNOPQRSTUVWXYZ\"\n",
        "specialChars = \"~!@#$%^&*()_+=-\"\n",
        "def containsLower(password): \n",
        "  if not any(e.islower() for e in password):\n",
        "    return False\n",
        "  else:\n",
        "    return True\n",
        "def containsUpper(password):\n",
        "  if not any(e.isupper() for e in password):\n",
        "    return False\n",
        "  else:\n",
        "    return True\n",
        "def containsSpecial(password):\n",
        "  if not any(e in specialChars for e in password):\n",
        "    return False\n",
        "  else:\n",
        "    return True\n",
        "def containsInt(password):\n",
        "  if not any(e.isdigit() for e in password):\n",
        "    return False\n",
        "  else: \n",
        "    return True\n",
        "print(\"Please enter a password. Follow these requirements - \" + \n",
        "      \"\\na. Must be at least 8 characters long\" + \n",
        "      \"\\nb. Must contain both uppercase and lowercase letters\" +\n",
        "      \"\\nc. Must contain at least one number between 0-9\" +\n",
        "      \"\\nd. Must contain a special character -!,@,#,$\")\n",
        "password = input(\"Password: \")\n",
        "\n",
        "while len(password) < 8 or (containsLower(password) == False) or (containsUpper(password)==False) or (containsSpecial(password)==False) or (containsInt(password) == False):\n",
        "  print(\"Invalid password. Try again!\")\n",
        "  password = input(\"Password: \")\n",
        "\n",
        "print(\"Access Granted!\")"
      ],
      "execution_count": null,
      "outputs": [
        {
          "output_type": "stream",
          "text": [
            "Please enter a password. Follow these requirements - \n",
            "a. Must be at least 8 characters long\n",
            "b. Must contain both uppercase and lowercase letters\n",
            "c. Must contain at least one number between 0-9\n",
            "d. Must contain a special character -!,@,#,$\n",
            "Password: 23456789\n",
            "Invalid password. Try again!\n",
            "Password: asdfgh\n",
            "Invalid password. Try again!\n",
            "Password: asdfDD34567##\n",
            "Access Granted!\n"
          ],
          "name": "stdout"
        }
      ]
    },
    {
      "cell_type": "markdown",
      "metadata": {
        "id": "-0sdutTDnTKA"
      },
      "source": [
        "##### Q9. Given the score sheet of participants in a competition, you are required to find the runner-up score. You are given scores in a list. Find the score of the runner-up.\n",
        "\n",
        "```\n",
        "list1 - [2, 3, 6, 6, 5]\n",
        "runner_up - 5\n",
        "\n",
        "list2 - [1, 7, 5, 3, 10, 4, 5, 5, 6, 11]\n",
        "runner_up - 10\n",
        "```"
      ]
    },
    {
      "cell_type": "code",
      "metadata": {
        "id": "12YP9OaqpGRK",
        "colab": {
          "base_uri": "https://localhost:8080/"
        },
        "outputId": "804a7b6a-b7fa-458b-94d3-5e2bc0ad2770"
      },
      "source": [
        "# Type solution here\n",
        "list1 = [2, 3, 6, 6, 5]\n",
        "\n",
        "def runnerUp(listInput):\n",
        "  listInput.sort()\n",
        "  listSet = set(listInput)\n",
        "  newList = list(listSet)\n",
        "  # print(newList)\n",
        "  print(\"List:\", listInput)\n",
        "  print(\"Runner up:\", newList[len(newList)-2])\n",
        "\n",
        "runnerUp(list1)\n",
        "  \n"
      ],
      "execution_count": null,
      "outputs": [
        {
          "output_type": "stream",
          "text": [
            "List: [2, 3, 5, 6, 6]\n",
            "Runner up: 5\n"
          ],
          "name": "stdout"
        }
      ]
    }
  ]
}